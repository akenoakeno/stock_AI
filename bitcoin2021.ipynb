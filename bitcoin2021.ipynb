{
 "cells": [
  {
   "cell_type": "code",
   "execution_count": 1,
   "id": "111a5c03",
   "metadata": {},
   "outputs": [],
   "source": [
    "import tqdm\n",
    "import torch.nn as nn\n",
    "import torch\n",
    "from torch.optim import SGD\n",
    "from torch.optim import RMSprop\n",
    "from torch.optim import Adam\n",
    "import math\n",
    "import numpy as np\n",
    "import csv\n",
    "import matplotlib.pyplot as plt\n",
    "import torch.utils.tensorboard as tensorboard\n",
    "from torch.autograd import Variable  \n",
    "import datetime"
   ]
  },
  {
   "cell_type": "code",
   "execution_count": 2,
   "id": "23002dc5",
   "metadata": {},
   "outputs": [],
   "source": [
    "#1時間ごとでの\n",
    "with open('BTC-2021min.csv') as f:\n",
    "    reader = csv.reader(f)\n",
    "    l = [row for row in reader]\n",
    "    minuites_data = [float(l[i][3]) for i in range(2, len(l))]\n",
    "    m_data = np.array(minuites_data)"
   ]
  },
  {
   "cell_type": "code",
   "execution_count": 3,
   "id": "9dad1c13",
   "metadata": {},
   "outputs": [],
   "source": [
    "def normalization(data):\n",
    "    avg = np.mean(data)\n",
    "    std = np.std(data)\n",
    "    data = (data - avg) / std\n",
    "    return data"
   ]
  },
  {
   "cell_type": "code",
   "execution_count": 4,
   "id": "d278871d",
   "metadata": {},
   "outputs": [],
   "source": [
    "m_data = normalization(m_data)"
   ]
  },
  {
   "cell_type": "code",
   "execution_count": 5,
   "id": "3b70d8d6",
   "metadata": {},
   "outputs": [
    {
     "data": {
      "text/plain": [
       "[<matplotlib.lines.Line2D at 0x7f4ed0071bb0>]"
      ]
     },
     "execution_count": 5,
     "metadata": {},
     "output_type": "execute_result"
    },
    {
     "data": {
      "image/png": "[encoded data removed]",
      "text/plain": [
       "<Figure size 432x288 with 1 Axes>"
      ]
     },
     "metadata": {
      "needs_background": "light"
     },
     "output_type": "display_data"
    }
   ],
   "source": [
    "fig = plt.figure()\n",
    "ax = fig.add_subplot(111)\n",
    "\n",
    "ax.plot(m_data, color = \"r\")"
   ]
  },
  {
   "cell_type": "code",
   "execution_count": 6,
   "id": "244a6ec7",
   "metadata": {},
   "outputs": [
    {
     "data": {
      "text/plain": [
       "[<matplotlib.lines.Line2D at 0x7f4ecffb74c0>]"
      ]
     },
     "execution_count": 6,
     "metadata": {},
     "output_type": "execute_result"
    },
    {
     "data": {
      "image/png": "[encoded data removed]",
      "text/plain": [
       "<Figure size 432x288 with 1 Axes>"
      ]
     },
     "metadata": {
      "needs_background": "light"
     },
     "output_type": "display_data"
    }
   ],
   "source": [
    "window = 10 # 移動平均の範囲\n",
    "w = np.ones(window)/window\n",
    "\n",
    "m_data_convolve = np.convolve(m_data, w, mode='same')\n",
    "\n",
    "fig = plt.figure()\n",
    "ax = fig.add_subplot(111)\n",
    "\n",
    "ax.plot(m_data_convolve, color = \"r\")"
   ]
  },
  {
   "cell_type": "code",
   "execution_count": 7,
   "id": "a92e796d",
   "metadata": {},
   "outputs": [
    {
     "name": "stdout",
     "output_type": "stream",
     "text": [
      "True\n"
     ]
    }
   ],
   "source": [
    "device = torch.device(\"cuda:0\" if torch.cuda.is_available() else \"cpu\")\n",
    "print(torch.cuda.is_available())"
   ]
  },
  {
   "cell_type": "code",
   "execution_count": 8,
   "id": "7069993b",
   "metadata": {},
   "outputs": [],
   "source": [
    "rate = 0.95\n",
    "expect_len = 100\n",
    "coef_arr = np.array([rate ** i for i in range(expect_len)])\n",
    "\n",
    "def value_s(np_array):\n",
    "    vs = np.sum((np_array - np_array[0]) - coef_arr[0:len(np_array)])\n",
    "    return vs\n",
    "\n",
    "def mkDataSet(data_size, data_length, validation_size):\n",
    "    train_x = np.empty((data_size, data_length, 1))\n",
    "    train_t = np.empty((data_size, 1))\n",
    "    valid_x = np.empty((validation_size, data_length, 1))\n",
    "    valid_t = np.empty((validation_size, 1))\n",
    "    \n",
    "    for offset in tqdm.tqdm(range(data_size)):\n",
    "        train_x[offset] = m_data_convolve[offset:offset + data_length].reshape(data_length, 1)\n",
    "        train_t[offset] = [value_s(m_data_convolve[offset + data_length:offset + data_length + expect_len])]\n",
    "        \n",
    "    for offset in tqdm.tqdm(range(validation_size)):\n",
    "        valid_x[offset] = m_data_convolve[offset + data_size:offset + data_size + data_length].reshape(data_length, 1)\n",
    "        valid_t[offset] = [value_s(m_data_convolve[offset + data_size + data_length:offset + data_size + data_length + expect_len])]\n",
    "        \n",
    "    return train_x, train_t, valid_x, valid_t\n",
    "\n",
    "def mkBatchSet(train_x, train_t, batch_size):\n",
    "    batch_x = []\n",
    "    batch_t = []    \n",
    "    for _ in range(batch_size):\n",
    "        idx = np.random.randint(0, len(train_x)-1)\n",
    "        batch_x.append(train_x[idx])\n",
    "        batch_t.append(train_t[idx])\n",
    "        \n",
    "    batch_x = np.array(batch_x).astype(np.float32)\n",
    "    batch_t = np.array(batch_t).astype(np.float32)\n",
    "\n",
    "    return torch.from_numpy(batch_x).clone().reshape(batch_size, 1, -1).to(device), torch.from_numpy(batch_t).clone().to(device)"
   ]
  },
  {
   "cell_type": "code",
   "execution_count": 9,
   "id": "7b8a5a26",
   "metadata": {},
   "outputs": [
    {
     "name": "stderr",
     "output_type": "stream",
     "text": [
      "100% 400681/400681 [00:08<00:00, 48343.27it/s]\n",
      "100% 200000/200000 [00:04<00:00, 47902.11it/s]\n"
     ]
    }
   ],
   "source": [
    "data_length = 10000\n",
    "validation_size = 200000\n",
    "training_size = len(m_data) - data_length - validation_size - expect_len\n",
    "hidden_size = 10\n",
    "batch_size = 32\n",
    "\n",
    "train_x, train_t, valid_x, valid_t = mkDataSet(training_size, data_length, validation_size)\n",
    "data, label = mkBatchSet(train_x, train_t, batch_size)"
   ]
  },
  {
   "cell_type": "code",
   "execution_count": 13,
   "id": "f26fc581",
   "metadata": {},
   "outputs": [],
   "source": [
    "class Predictor(nn.Module):\n",
    "    def __init__(self, inputDim, hiddenDim, outputDim):\n",
    "        super(Predictor, self).__init__()\n",
    "        self.hiddenDim = hiddenDim\n",
    "        self.kernel_size1 = 5000\n",
    "        self.kernel_size2 = 2500\n",
    "        self.kernel_size3 = 500\n",
    "        self.kernel_size4 = 250\n",
    "        self.kernel_size5 = 100\n",
    "        self.kernel_size6 = 50\n",
    "        self.seq_len = ((inputDim - self.kernel_size1 + 1 - self.kernel_size2 + 1) // 2 - self.kernel_size3 + 1 - self.kernel_size4 + 1) // 2 - self.kernel_size5 + 1 - self.kernel_size6 + 1\n",
    "        \n",
    "        self.conv1d_1 = nn.Conv1d(1, 16, self.kernel_size1)\n",
    "        self.conv1d_2 = nn.Conv1d(16, 32, self.kernel_size2)\n",
    "        self.maxpool1 = nn.MaxPool1d(2)\n",
    "        self.conv1d_3 = nn.Conv1d(32, 64, self.kernel_size3)\n",
    "        self.conv1d_4 = nn.Conv1d(64, 64, self.kernel_size4)\n",
    "        self.maxpool2 = nn.MaxPool1d(2)\n",
    "        self.conv1d_5 = nn.Conv1d(64, 64, self.kernel_size5)\n",
    "        self.conv1d_6 = nn.Conv1d(64, 64, self.kernel_size6)\n",
    "        self.rnn1 = nn.LSTM(input_size=64, hidden_size=hiddenDim, batch_first=True) #batch_first=Trueで(seq, batch, vec)->(batch, seq, vec)に入力の形を変更\n",
    "        self.rnn2 = nn.LSTM(input_size=hiddenDim, hidden_size=hiddenDim, batch_first=True) #batch_first=Trueで(seq, batch, vec)->(batch, seq, vec)に入力の形を変更\n",
    "        self.output_layer = nn.Linear(hiddenDim, outputDim)\n",
    "\n",
    "    def forward(self, input):\n",
    "        output = self.conv1d_1(input)\n",
    "        output = self.conv1d_2(output)\n",
    "        output = self.maxpool1(output)\n",
    "        output = self.conv1d_3(output)\n",
    "        output = self.conv1d_4(output)\n",
    "        output = self.maxpool2(output)\n",
    "        output = self.conv1d_5(output)\n",
    "        output = self.conv1d_6(output)\n",
    "        h_0_1 = None\n",
    "        output = output.reshape(-1, self.seq_len, 64)\n",
    "        output, (hidden, cell) = self.rnn1(output, (h_0_1)) #LSTMのforwardのreturnはこのような戻り値になっている\n",
    "        h_0_2 = None\n",
    "        output, (hidden, cell) = self.rnn2(output, (h_0_2))\n",
    "        output = self.output_layer(output[:, -1, :]) #LSTMのoutput=(batch, seq, hidden)からseqのみ最後のやつだけを取り出す\n",
    "        return output"
   ]
  },
  {
   "cell_type": "code",
   "execution_count": 14,
   "id": "e57ca6b1",
   "metadata": {},
   "outputs": [],
   "source": [
    "model = Predictor(data_length, hidden_size, 1).to(device)\n",
    "criterion = nn.MSELoss()\n",
    "optimizer = Adam(model.parameters(), lr=0.001)"
   ]
  },
  {
   "cell_type": "code",
   "execution_count": 15,
   "id": "33567c14",
   "metadata": {},
   "outputs": [
    {
     "name": "stderr",
     "output_type": "stream",
     "text": [
      "  1% 1000/100000 [03:24<5:40:14,  4.85it/s]"
     ]
    },
    {
     "name": "stdout",
     "output_type": "stream",
     "text": [
      "1000 loss: 66.375748\n"
     ]
    },
    {
     "name": "stderr",
     "output_type": "stream",
     "text": [
      "  2% 2000/100000 [06:51<5:38:15,  4.83it/s]"
     ]
    },
    {
     "name": "stdout",
     "output_type": "stream",
     "text": [
      "2000 loss: 8.686625\n"
     ]
    },
    {
     "name": "stderr",
     "output_type": "stream",
     "text": [
      "  3% 3000/100000 [10:18<5:35:05,  4.82it/s]"
     ]
    },
    {
     "name": "stdout",
     "output_type": "stream",
     "text": [
      "3000 loss: 4.507642\n"
     ]
    },
    {
     "name": "stderr",
     "output_type": "stream",
     "text": [
      "  4% 4000/100000 [13:46<5:31:53,  4.82it/s]"
     ]
    },
    {
     "name": "stdout",
     "output_type": "stream",
     "text": [
      "4000 loss: 2.998491\n"
     ]
    },
    {
     "name": "stderr",
     "output_type": "stream",
     "text": [
      "  5% 5000/100000 [17:13<5:27:59,  4.83it/s]"
     ]
    },
    {
     "name": "stdout",
     "output_type": "stream",
     "text": [
      "5000 loss: 7.397708\n"
     ]
    },
    {
     "name": "stderr",
     "output_type": "stream",
     "text": [
      "  6% 6000/100000 [20:40<5:24:46,  4.82it/s]"
     ]
    },
    {
     "name": "stdout",
     "output_type": "stream",
     "text": [
      "6000 loss: 7.464049\n"
     ]
    },
    {
     "name": "stderr",
     "output_type": "stream",
     "text": [
      "  7% 7000/100000 [24:07<5:21:17,  4.82it/s]"
     ]
    },
    {
     "name": "stdout",
     "output_type": "stream",
     "text": [
      "7000 loss: 7.323504\n"
     ]
    },
    {
     "name": "stderr",
     "output_type": "stream",
     "text": [
      "  8% 8000/100000 [27:34<5:18:01,  4.82it/s]"
     ]
    },
    {
     "name": "stdout",
     "output_type": "stream",
     "text": [
      "8000 loss: 7.459792\n"
     ]
    },
    {
     "name": "stderr",
     "output_type": "stream",
     "text": [
      "  9% 9000/100000 [31:02<5:14:22,  4.82it/s]"
     ]
    },
    {
     "name": "stdout",
     "output_type": "stream",
     "text": [
      "9000 loss: 7.051017\n"
     ]
    },
    {
     "name": "stderr",
     "output_type": "stream",
     "text": [
      " 10% 10000/100000 [34:29<5:10:51,  4.83it/s]"
     ]
    },
    {
     "name": "stdout",
     "output_type": "stream",
     "text": [
      "10000 loss: 13.836581\n"
     ]
    },
    {
     "name": "stderr",
     "output_type": "stream",
     "text": [
      " 11% 11000/100000 [37:56<5:07:26,  4.82it/s]"
     ]
    },
    {
     "name": "stdout",
     "output_type": "stream",
     "text": [
      "11000 loss: 5.601408\n"
     ]
    },
    {
     "name": "stderr",
     "output_type": "stream",
     "text": [
      " 12% 12000/100000 [41:23<5:03:57,  4.83it/s]"
     ]
    },
    {
     "name": "stdout",
     "output_type": "stream",
     "text": [
      "12000 loss: 7.799326\n"
     ]
    },
    {
     "name": "stderr",
     "output_type": "stream",
     "text": [
      " 13% 13000/100000 [44:51<5:00:35,  4.82it/s]"
     ]
    },
    {
     "name": "stdout",
     "output_type": "stream",
     "text": [
      "13000 loss: 2.780441\n"
     ]
    },
    {
     "name": "stderr",
     "output_type": "stream",
     "text": [
      " 14% 14000/100000 [48:18<4:57:08,  4.82it/s]"
     ]
    },
    {
     "name": "stdout",
     "output_type": "stream",
     "text": [
      "14000 loss: 4.363387\n"
     ]
    },
    {
     "name": "stderr",
     "output_type": "stream",
     "text": [
      " 15% 15000/100000 [51:45<4:53:38,  4.82it/s]"
     ]
    },
    {
     "name": "stdout",
     "output_type": "stream",
     "text": [
      "15000 loss: 4.488934\n"
     ]
    },
    {
     "name": "stderr",
     "output_type": "stream",
     "text": [
      " 16% 16000/100000 [55:12<4:50:06,  4.83it/s]"
     ]
    },
    {
     "name": "stdout",
     "output_type": "stream",
     "text": [
      "16000 loss: 6.731020\n"
     ]
    },
    {
     "name": "stderr",
     "output_type": "stream",
     "text": [
      " 17% 17000/100000 [58:40<4:46:47,  4.82it/s]"
     ]
    },
    {
     "name": "stdout",
     "output_type": "stream",
     "text": [
      "17000 loss: 3.274543\n"
     ]
    },
    {
     "name": "stderr",
     "output_type": "stream",
     "text": [
      " 18% 17785/100000 [1:01:23<4:43:45,  4.83it/s]\n"
     ]
    },
    {
     "ename": "KeyboardInterrupt",
     "evalue": "",
     "output_type": "error",
     "traceback": [
      "\u001b[0;31m---------------------------------------------------------------------------\u001b[0m",
      "\u001b[0;31mKeyboardInterrupt\u001b[0m                         Traceback (most recent call last)",
      "Input \u001b[0;32mIn [15]\u001b[0m, in \u001b[0;36m<cell line: 3>\u001b[0;34m()\u001b[0m\n\u001b[1;32m     10\u001b[0m optimizer\u001b[38;5;241m.\u001b[39mstep()\n\u001b[1;32m     12\u001b[0m running_loss \u001b[38;5;241m=\u001b[39m torch\u001b[38;5;241m.\u001b[39msum(loss\u001b[38;5;241m.\u001b[39mdata)\n\u001b[0;32m---> 13\u001b[0m loss_history\u001b[38;5;241m.\u001b[39mappend(running_loss\u001b[38;5;241m.\u001b[39mto(\u001b[38;5;124m'\u001b[39m\u001b[38;5;124mcpu\u001b[39m\u001b[38;5;124m'\u001b[39m)\u001b[38;5;241m.\u001b[39mdetach()\u001b[38;5;241m.\u001b[39mnumpy()\u001b[38;5;241m.\u001b[39mcopy())\n\u001b[1;32m     15\u001b[0m \u001b[38;5;28;01mif\u001b[39;00m (epoch\u001b[38;5;241m+\u001b[39m\u001b[38;5;241m1\u001b[39m) \u001b[38;5;241m%\u001b[39m \u001b[38;5;241m1000\u001b[39m \u001b[38;5;241m==\u001b[39m \u001b[38;5;241m0\u001b[39m:\n\u001b[1;32m     16\u001b[0m     \u001b[38;5;28mprint\u001b[39m(\u001b[38;5;124m'\u001b[39m\u001b[38;5;132;01m%d\u001b[39;00m\u001b[38;5;124m loss: \u001b[39m\u001b[38;5;132;01m%3f\u001b[39;00m\u001b[38;5;124m'\u001b[39m \u001b[38;5;241m%\u001b[39m (epoch\u001b[38;5;241m+\u001b[39m\u001b[38;5;241m1\u001b[39m, running_loss))\n",
      "\u001b[0;31mKeyboardInterrupt\u001b[0m: "
     ]
    }
   ],
   "source": [
    "loss_history = []\n",
    "epoch_num = 100000\n",
    "for epoch in tqdm.tqdm(range(epoch_num)):\n",
    "    optimizer.zero_grad()\n",
    "    data, label = mkBatchSet(train_x, train_t, batch_size)\n",
    "    output = model(data)\n",
    "\n",
    "    loss = criterion(output, label)\n",
    "    loss.backward()\n",
    "    optimizer.step()\n",
    "\n",
    "    running_loss = torch.sum(loss.data)\n",
    "    loss_history.append(running_loss.to('cpu').detach().numpy().copy())\n",
    "    \n",
    "    if (epoch+1) % 1000 == 0:\n",
    "        print('%d loss: %3f' % (epoch+1, running_loss))"
   ]
  },
  {
   "cell_type": "code",
   "execution_count": 16,
   "id": "497c8f65",
   "metadata": {},
   "outputs": [
    {
     "data": {
      "text/plain": [
       "[<matplotlib.lines.Line2D at 0x7f4334f8edc0>]"
      ]
     },
     "execution_count": 16,
     "metadata": {},
     "output_type": "execute_result"
    },
    {
     "data": {
      "image/png": "[encoded data removed]",
      "text/plain": [
       "<Figure size 432x288 with 1 Axes>"
      ]
     },
     "metadata": {
      "needs_background": "light"
     },
     "output_type": "display_data"
    }
   ],
   "source": [
    "loss_history = np.array(loss_history)\n",
    "fig = plt.figure()\n",
    "ax = fig.add_subplot(111)\n",
    "ax.plot(loss_history, color = \"r\")"
   ]
  },
  {
   "cell_type": "code",
   "execution_count": 17,
   "id": "c280e97a",
   "metadata": {},
   "outputs": [
    {
     "data": {
      "text/plain": [
       "[<matplotlib.lines.Line2D at 0x7f43345be430>]"
      ]
     },
     "execution_count": 17,
     "metadata": {},
     "output_type": "execute_result"
    },
    {
     "data": {
      "image/png": "[encoded data removed]",
      "text/plain": [
       "<Figure size 432x288 with 1 Axes>"
      ]
     },
     "metadata": {
      "needs_background": "light"
     },
     "output_type": "display_data"
    }
   ],
   "source": [
    "window = 10 # 移動平均の範囲\n",
    "w = np.ones(window)/window\n",
    "\n",
    "loss_hist_convolve = np.convolve(loss_history, w, mode='same')\n",
    "\n",
    "fig = plt.figure()\n",
    "ax = fig.add_subplot(111)\n",
    "\n",
    "ax.plot(loss_hist_convolve, color = \"r\")"
   ]
  },
  {
   "cell_type": "code",
   "execution_count": 19,
   "id": "95394c30",
   "metadata": {},
   "outputs": [
    {
     "name": "stderr",
     "output_type": "stream",
     "text": [
      " 29% 116867/400681 [12:41<30:49, 153.46it/s]\n"
     ]
    },
    {
     "ename": "KeyboardInterrupt",
     "evalue": "",
     "output_type": "error",
     "traceback": [
      "\u001b[0;31m---------------------------------------------------------------------------\u001b[0m",
      "\u001b[0;31mKeyboardInterrupt\u001b[0m                         Traceback (most recent call last)",
      "Input \u001b[0;32mIn [19]\u001b[0m, in \u001b[0;36m<cell line: 6>\u001b[0;34m()\u001b[0m\n\u001b[1;32m      7\u001b[0m \u001b[38;5;28;01mfor\u001b[39;00m test_data \u001b[38;5;129;01min\u001b[39;00m tqdm\u001b[38;5;241m.\u001b[39mtqdm(train_x):\n\u001b[1;32m      8\u001b[0m     output \u001b[38;5;241m=\u001b[39m model(torch\u001b[38;5;241m.\u001b[39mfrom_numpy(test_data\u001b[38;5;241m.\u001b[39mastype(np\u001b[38;5;241m.\u001b[39mfloat32))\u001b[38;5;241m.\u001b[39mclone()\u001b[38;5;241m.\u001b[39mreshape(\u001b[38;5;241m1\u001b[39m, \u001b[38;5;241m1\u001b[39m, \u001b[38;5;241m-\u001b[39m\u001b[38;5;241m1\u001b[39m)\u001b[38;5;241m.\u001b[39mto(device))\n\u001b[0;32m----> 9\u001b[0m     \u001b[38;5;28;01mif\u001b[39;00m output\u001b[38;5;241m.\u001b[39mdata \u001b[38;5;241m>\u001b[39m last_output:\n\u001b[1;32m     10\u001b[0m         \u001b[38;5;28;01mif\u001b[39;00m state \u001b[38;5;241m==\u001b[39m \u001b[38;5;241m0\u001b[39m:\n\u001b[1;32m     11\u001b[0m             reward \u001b[38;5;241m+\u001b[39m\u001b[38;5;241m=\u001b[39m test_data[\u001b[38;5;241m-\u001b[39m\u001b[38;5;241m1\u001b[39m][\u001b[38;5;241m0\u001b[39m] \u001b[38;5;241m-\u001b[39m buy_chart\n",
      "\u001b[0;31mKeyboardInterrupt\u001b[0m: "
     ]
    }
   ],
   "source": [
    "state = 0 #0->1で買い　1->0で売り\n",
    "reward = 0.\n",
    "last_output = 0.\n",
    "buy_chart = 0.\n",
    "output_vs = []\n",
    "with torch.no_grad():\n",
    "    for test_data in tqdm.tqdm(train_x):\n",
    "        output = model(torch.from_numpy(test_data.astype(np.float32)).clone().reshape(1, 1, -1).to(device))\n",
    "        if output.data > last_output:\n",
    "            if state == 0:\n",
    "                reward += test_data[-1][0] - buy_chart\n",
    "            state = 1\n",
    "        else:\n",
    "            if state == 1:\n",
    "                buy_chart = test_data[-1][0]\n",
    "            state = 0\n",
    "        output_vs.append(np.squeeze(output.data.to('cpu').detach().numpy().copy()))\n",
    "        last_output = output.data\n",
    "        \n",
    "print(reward)"
   ]
  },
  {
   "cell_type": "code",
   "execution_count": 20,
   "id": "62e38107",
   "metadata": {},
   "outputs": [
    {
     "data": {
      "text/plain": [
       "[<matplotlib.lines.Line2D at 0x7f4ed01052b0>]"
      ]
     },
     "execution_count": 20,
     "metadata": {},
     "output_type": "execute_result"
    },
    {
     "data": {
      "image/png": "[encoded data removed]",
      "text/plain": [
       "<Figure size 432x288 with 1 Axes>"
      ]
     },
     "metadata": {
      "needs_background": "light"
     },
     "output_type": "display_data"
    }
   ],
   "source": [
    "output_vs = np.array(output_vs)\n",
    "\n",
    "fig = plt.figure()\n",
    "ax = fig.add_subplot(111)\n",
    "\n",
    "ax.plot(output_vs, color = \"r\")"
   ]
  },
  {
   "cell_type": "code",
   "execution_count": 21,
   "id": "1eaab64c",
   "metadata": {},
   "outputs": [
    {
     "data": {
      "text/plain": [
       "[<matplotlib.lines.Line2D at 0x7f4334716d30>]"
      ]
     },
     "execution_count": 21,
     "metadata": {},
     "output_type": "execute_result"
    },
    {
     "data": {
      "image/png": "[encoded data removed]",
      "text/plain": [
       "<Figure size 432x288 with 1 Axes>"
      ]
     },
     "metadata": {
      "needs_background": "light"
     },
     "output_type": "display_data"
    }
   ],
   "source": [
    "fig = plt.figure()\n",
    "ax = fig.add_subplot(111)\n",
    "\n",
    "ax.plot(np.squeeze(train_t), color = \"r\")"
   ]
  },
  {
   "cell_type": "code",
   "execution_count": 23,
   "id": "c5e43f66",
   "metadata": {},
   "outputs": [
    {
     "name": "stderr",
     "output_type": "stream",
     "text": [
      "100% 200000/200000 [21:42<00:00, 153.52it/s]\n"
     ]
    },
    {
     "name": "stdout",
     "output_type": "stream",
     "text": [
      "-1.8600959359732885\n"
     ]
    },
    {
     "data": {
      "text/plain": [
       "[<matplotlib.lines.Line2D at 0x7f430b723be0>]"
      ]
     },
     "execution_count": 23,
     "metadata": {},
     "output_type": "execute_result"
    },
    {
     "data": {
      "image/png": "[encoded data removed]",
      "text/plain": [
       "<Figure size 432x288 with 1 Axes>"
      ]
     },
     "metadata": {
      "needs_background": "light"
     },
     "output_type": "display_data"
    },
    {
     "data": {
      "image/png": "[encoded data removed]",
      "text/plain": [
       "<Figure size 432x288 with 1 Axes>"
      ]
     },
     "metadata": {
      "needs_background": "light"
     },
     "output_type": "display_data"
    }
   ],
   "source": [
    "state = 0 #0->1で買い　1->0で売り\n",
    "reward = 0.\n",
    "last_output = 0.\n",
    "buy_chart = 0.\n",
    "output_vs = []\n",
    "with torch.no_grad():\n",
    "    for test_data in tqdm.tqdm(valid_x):\n",
    "        output = model(torch.from_numpy(test_data.astype(np.float32)).clone().reshape(1, 1, -1).to(device))\n",
    "        if output.data > last_output:\n",
    "            if state == 0:\n",
    "                reward += test_data[-1][0] - buy_chart\n",
    "            state = 1\n",
    "        else:\n",
    "            if state == 1:\n",
    "                buy_chart = test_data[-1][0]\n",
    "            state = 0\n",
    "        output_vs.append(np.squeeze(output.data.to('cpu').detach().numpy().copy()))\n",
    "        last_output = output.data\n",
    "        \n",
    "print(reward)\n",
    "\n",
    "output_vs = np.array(output_vs)\n",
    "\n",
    "fig = plt.figure()\n",
    "ax = fig.add_subplot(111)\n",
    "\n",
    "ax.plot(output_vs, color = \"r\")\n",
    "\n",
    "fig = plt.figure()\n",
    "ax = fig.add_subplot(111)\n",
    "\n",
    "ax.plot(np.squeeze(valid_t), color = \"r\")"
   ]
  },
  {
   "cell_type": "code",
   "execution_count": null,
   "id": "2c77165c",
   "metadata": {},
   "outputs": [],
   "source": [
    "# def mkRandomBatch(train_x, train_t, batch_size=10):\n",
    "#     batch_x = []\n",
    "#     batch_t = []\n",
    "    \n",
    "#     for _ in range(batch_size):\n",
    "#         idx = np.random.randint(0, len(train_x)-1)\n",
    "#         batch_x.append(train_x[idx])\n",
    "#         batch_t.append(train_t[idx])\n",
    "    \n",
    "#     return torch.tensor(batch_x), torch.tensor(batch_t)"
   ]
  },
  {
   "cell_type": "code",
   "execution_count": null,
   "id": "1fad88bf",
   "metadata": {},
   "outputs": [],
   "source": [
    "# batch_size = 10\n",
    "\n",
    "# for epoch in range(epoch_num):\n",
    "#     running_loss = 0.0\n",
    "#     last_training_accuracy = 0.0\n",
    "#     correct = 0.0\n",
    "#     for i in range(int(training_size / batch_size)):\n",
    "#         optimizer.zero_grad()\n",
    "#         data, label = mkRandomBatch(train_x, train_t, batch_size)\n",
    "\n",
    "#         output = model(data)\n",
    "\n",
    "#         loss = criterion(output, label)\n",
    "#         loss.backward()\n",
    "#         optimizer.step()\n",
    "\n",
    "#         running_loss += loss.data\n",
    "#         correct += np.sum(np.abs((output.data - label.data).numpy()) < 0.1)\n",
    "    \n",
    "#     training_accuracy = correct / training_size\n",
    "#     print('%d loss: %3f, training_accuracy: %.5f' % (epoch+1, running_loss, training_accuracy))\n",
    "#     if last_training_accuracy > training_accuracy:\n",
    "#         break\n",
    "#     last_training_accuracy = training_accuracy"
   ]
  }
 ],
 "metadata": {
  "kernelspec": {
   "display_name": "Python 3 (ipykernel)",
   "language": "python",
   "name": "python3"
  },
  "language_info": {
   "codemirror_mode": {
    "name": "ipython",
    "version": 3
   },
   "file_extension": ".py",
   "mimetype": "text/x-python",
   "name": "python",
   "nbconvert_exporter": "python",
   "pygments_lexer": "ipython3",
   "version": "3.8.12"
  }
 },
 "nbformat": 4,
 "nbformat_minor": 5
}
