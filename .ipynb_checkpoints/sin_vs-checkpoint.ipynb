{
 "cells": [
  {
   "cell_type": "code",
   "execution_count": 1,
   "id": "6a57c408",
   "metadata": {},
   "outputs": [],
   "source": [
    "import tqdm\n",
    "import torch.nn as nn\n",
    "import torch\n",
    "from torch.optim import SGD\n",
    "from torch.optim import RMSprop\n",
    "from torch.optim import Adam\n",
    "import math\n",
    "import numpy as np\n",
    "import csv\n",
    "import matplotlib.pyplot as plt\n",
    "import torch.utils.tensorboard as tensorboard\n",
    "from torch.autograd import Variable  \n",
    "import datetime"
   ]
  },
  {
   "cell_type": "code",
   "execution_count": 2,
   "id": "fadcab6b",
   "metadata": {},
   "outputs": [
    {
     "name": "stdout",
     "output_type": "stream",
     "text": [
      "True\n"
     ]
    }
   ],
   "source": [
    "device = torch.device(\"cuda:0\" if torch.cuda.is_available() else \"cpu\")\n",
    "print(torch.cuda.is_available())"
   ]
  },
  {
   "cell_type": "code",
   "execution_count": 3,
   "id": "5e846246",
   "metadata": {},
   "outputs": [],
   "source": [
    "def value_s(np_array, rate = 0.9):\n",
    "    sum = 0\n",
    "    if (len(np_array) < 100):\n",
    "        for n, r in enumerate(np_array):\n",
    "            sum += rate ** n * (r - np_array[0])\n",
    "    else:\n",
    "        for n in range(100):\n",
    "            sum += rate ** n * (np_array[n] - np_array[0])\n",
    "    return sum\n",
    "\n",
    "def mkDataSet(data_size, data_length):\n",
    "    train_x = []\n",
    "    train_t = []\n",
    "    freq=60.\n",
    "    for offset in range(data_size):\n",
    "        train_x.append([[math.sin(2*math.pi*(offset+i)/freq)+np.random.normal(loc=0.0, scale=0.05)] for i in range(data_length)])\n",
    "        train_t.append([value_s([math.sin(2*math.pi*(offset+50+i)/freq) for i in range(50)])])\n",
    "        \n",
    "    return train_x, train_t\n",
    "\n",
    "def mkBatchSet(train_x, train_t, batch_size):\n",
    "    batch_x = []\n",
    "    batch_t = []    \n",
    "    for _ in range(batch_size):\n",
    "        idx = np.random.randint(0, len(train_x)-1)\n",
    "        batch_x.append(train_x[idx])\n",
    "        batch_t.append(train_t[idx])\n",
    "\n",
    "    return torch.tensor(batch_x).reshape(batch_size, 1, -1).to(device), torch.tensor(batch_t).to(device)"
   ]
  },
  {
   "cell_type": "code",
   "execution_count": 4,
   "id": "c1fd5a19",
   "metadata": {},
   "outputs": [],
   "source": [
    "class Predictor(nn.Module):\n",
    "    def __init__(self, inputDim, hiddenDim, outputDim):\n",
    "        super(Predictor, self).__init__()\n",
    "        self.kernel_size = 20\n",
    "        self.seq_len = inputDim - self.kernel_size + 1\n",
    "\n",
    "        self.conv1d = nn.Conv1d(1, 1, self.kernel_size)\n",
    "        self.relu = nn.ReLU()\n",
    "        self.rnn = nn.LSTM(input_size=1, hidden_size=hiddenDim, batch_first=True) #batch_first=Trueで(seq, batch, vec)->(batch, seq, vec)に入力の形を変更\n",
    "        self.output_layer = nn.Linear(hiddenDim, outputDim)\n",
    "\n",
    "    def forward(self, input, hidden0=None):\n",
    "        output = self.conv1d(input)\n",
    "        output = self.relu(output)\n",
    "        output = output.reshape(-1, self.seq_len, 1)\n",
    "        output, (hidden, cell) = self.rnn(output, hidden0) #LSTMのforwardのreturnはこのような戻り値になっている\n",
    "        output = self.output_layer(output[:, -1, :]) #LSTMのoutput=(batch, seq, hidden)からseqのみ最後のやつだけを取り出す\n",
    "        return output"
   ]
  },
  {
   "cell_type": "code",
   "execution_count": 5,
   "id": "5bb6ae1f",
   "metadata": {},
   "outputs": [],
   "source": [
    "data_length = 50\n",
    "data_size = 500\n",
    "hidden_size = 5\n",
    "batch_size = 8\n",
    "train_x, train_t = mkDataSet(data_size, data_length)"
   ]
  },
  {
   "cell_type": "code",
   "execution_count": 6,
   "id": "9c77a4f9",
   "metadata": {},
   "outputs": [],
   "source": [
    "model = Predictor(data_length, hidden_size, 1).to(device)\n",
    "criterion = nn.MSELoss()\n",
    "optimizer = Adam(model.parameters(), lr=0.001)"
   ]
  },
  {
   "cell_type": "code",
   "execution_count": 7,
   "id": "2ff2d1ab",
   "metadata": {},
   "outputs": [
    {
     "name": "stdout",
     "output_type": "stream",
     "text": [
      "1000 loss: 0.045394\n",
      "2000 loss: 0.067548\n",
      "3000 loss: 0.014380\n",
      "4000 loss: 0.007850\n",
      "5000 loss: 0.012961\n",
      "6000 loss: 0.008502\n",
      "7000 loss: 0.002388\n",
      "8000 loss: 0.006458\n",
      "9000 loss: 0.015592\n",
      "10000 loss: 0.004984\n"
     ]
    }
   ],
   "source": [
    "epoch_num = 10000\n",
    "loss_history = []\n",
    "for epoch in range(epoch_num):\n",
    "    optimizer.zero_grad()\n",
    "    data, label = mkBatchSet(train_x, train_t, batch_size)\n",
    "    output = model(data)\n",
    "\n",
    "    loss = criterion(output, label)\n",
    "    loss.backward()\n",
    "    optimizer.step()\n",
    "\n",
    "    running_loss = torch.sum(loss.data)\n",
    "    loss_history.append(running_loss.to('cpu').detach().numpy().copy())\n",
    "    \n",
    "    if (epoch+1) % 1000 == 0:\n",
    "        print('%d loss: %3f' % (epoch+1, running_loss))"
   ]
  },
  {
   "cell_type": "code",
   "execution_count": 20,
   "id": "7b95014f",
   "metadata": {},
   "outputs": [],
   "source": [
    "state = 0 #0->1で買い　1->0で売り\n",
    "reward = 0.\n",
    "last_output = 0.\n",
    "buy_chart = 0.\n",
    "with torch.no_grad():\n",
    "    for test_data in train_x:\n",
    "        output = model(torch.tensor(test_data).reshape(1, 1, -1).to(device))\n",
    "        if output.data > last_output:\n",
    "            if state == 0:\n",
    "                reward += test_data[-1][0] - buy_chart\n",
    "            state = 1\n",
    "        else:\n",
    "            if state == 1:\n",
    "                buy_chart = test_data[-1][0]\n",
    "            state = 0\n",
    "        last_output = output.data"
   ]
  },
  {
   "cell_type": "code",
   "execution_count": 21,
   "id": "c5cb1939",
   "metadata": {},
   "outputs": [
    {
     "data": {
      "text/plain": [
       "10.543688875208417"
      ]
     },
     "execution_count": 21,
     "metadata": {},
     "output_type": "execute_result"
    }
   ],
   "source": [
    "reward"
   ]
  },
  {
   "cell_type": "code",
   "execution_count": 22,
   "id": "bc1cd521",
   "metadata": {},
   "outputs": [
    {
     "data": {
      "text/plain": [
       "[<matplotlib.lines.Line2D at 0x7f14bc34eca0>]"
      ]
     },
     "execution_count": 22,
     "metadata": {},
     "output_type": "execute_result"
    },
    {
     "data": {
      "image/png": "[encoded data removed]",
      "text/plain": [
       "<Figure size 432x288 with 1 Axes>"
      ]
     },
     "metadata": {
      "needs_background": "light"
     },
     "output_type": "display_data"
    }
   ],
   "source": [
    "loss_history = np.array(loss_history)\n",
    "fig = plt.figure()\n",
    "ax = fig.add_subplot(111)\n",
    "ax.plot(loss_history, color = \"r\")"
   ]
  },
  {
   "cell_type": "code",
   "execution_count": 11,
   "id": "b1166819",
   "metadata": {},
   "outputs": [],
   "source": [
    "# def mkRandomBatch(train_x, train_t, batch_size=10):\n",
    "#     batch_x = []\n",
    "#     batch_t = []\n",
    "    \n",
    "#     for _ in range(batch_size):\n",
    "#         idx = np.random.randint(0, len(train_x)-1)\n",
    "#         batch_x.append(train_x[idx])\n",
    "#         batch_t.append(train_t[idx])\n",
    "    \n",
    "#     return torch.tensor(batch_x), torch.tensor(batch_t)"
   ]
  },
  {
   "cell_type": "code",
   "execution_count": 12,
   "id": "a0166489",
   "metadata": {},
   "outputs": [],
   "source": [
    "# batch_size = 10\n",
    "\n",
    "# for epoch in range(epoch_num):\n",
    "#     running_loss = 0.0\n",
    "#     last_training_accuracy = 0.0\n",
    "#     correct = 0.0\n",
    "#     for i in range(int(training_size / batch_size)):\n",
    "#         optimizer.zero_grad()\n",
    "#         data, label = mkRandomBatch(train_x, train_t, batch_size)\n",
    "\n",
    "#         output = model(data)\n",
    "\n",
    "#         loss = criterion(output, label)\n",
    "#         loss.backward()\n",
    "#         optimizer.step()\n",
    "\n",
    "#         running_loss += loss.data\n",
    "#         correct += np.sum(np.abs((output.data - label.data).numpy()) < 0.1)\n",
    "    \n",
    "#     training_accuracy = correct / training_size\n",
    "#     print('%d loss: %3f, training_accuracy: %.5f' % (epoch+1, running_loss, training_accuracy))\n",
    "#     if last_training_accuracy > training_accuracy:\n",
    "#         break\n",
    "#     last_training_accuracy = training_accuracy"
   ]
  },
  {
   "cell_type": "code",
   "execution_count": null,
   "id": "61a02b06",
   "metadata": {},
   "outputs": [],
   "source": []
  }
 ],
 "metadata": {
  "kernelspec": {
   "display_name": "Python 3 (ipykernel)",
   "language": "python",
   "name": "python3"
  },
  "language_info": {
   "codemirror_mode": {
    "name": "ipython",
    "version": 3
   },
   "file_extension": ".py",
   "mimetype": "text/x-python",
   "name": "python",
   "nbconvert_exporter": "python",
   "pygments_lexer": "ipython3",
   "version": "3.8.12"
  }
 },
 "nbformat": 4,
 "nbformat_minor": 5
}
