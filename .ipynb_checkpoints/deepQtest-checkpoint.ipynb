{
 "cells": [
  {
   "cell_type": "code",
   "execution_count": 2,
   "id": "59f49081",
   "metadata": {},
   "outputs": [
    {
     "ename": "ModuleNotFoundError",
     "evalue": "No module named 'gym'",
     "output_type": "error",
     "traceback": [
      "\u001b[0;31m---------------------------------------------------------------------------\u001b[0m",
      "\u001b[0;31mModuleNotFoundError\u001b[0m                       Traceback (most recent call last)",
      "Input \u001b[0;32mIn [2]\u001b[0m, in \u001b[0;36m<cell line: 2>\u001b[0;34m()\u001b[0m\n\u001b[1;32m      1\u001b[0m \u001b[38;5;28;01mimport\u001b[39;00m \u001b[38;5;21;01mtorch\u001b[39;00m\u001b[38;5;21;01m.\u001b[39;00m\u001b[38;5;21;01mnn\u001b[39;00m \n\u001b[0;32m----> 2\u001b[0m \u001b[38;5;28;01mimport\u001b[39;00m \u001b[38;5;21;01mgym\u001b[39;00m\n\u001b[1;32m      3\u001b[0m \u001b[38;5;28;01mfrom\u001b[39;00m \u001b[38;5;21;01mAgent\u001b[39;00m \u001b[38;5;28;01mimport\u001b[39;00m DQNAgent\n",
      "\u001b[0;31mModuleNotFoundError\u001b[0m: No module named 'gym'"
     ]
    }
   ],
   "source": [
    "import gym\n",
    "from Agent import DQNAgent"
   ]
  },
  {
   "cell_type": "code",
   "execution_count": null,
   "id": "65f83fb9",
   "metadata": {},
   "outputs": [],
   "source": [
    "eps = 300\n",
    "sync_interval = 20\n",
    "env = gym.make('CartPole-v1')\n",
    "agent = DQNAgent()\n",
    "reward_history = []"
   ]
  },
  {
   "cell_type": "code",
   "execution_count": null,
   "id": "d8f50338",
   "metadata": {},
   "outputs": [],
   "source": [
    "for ep in range(eps):\n",
    "    state = env.reset()\n",
    "    done = False\n",
    "    total_reward = 0\n",
    "    \n",
    "    while not done:\n",
    "        action = agent.get_action(state)\n",
    "        next_state, reward, done, _ = env.step(action)\n",
    "        \n",
    "        agent.update(state, action, reward, next_state, done)\n",
    "        state = next_state\n",
    "        total_reward += reward\n",
    "    if ep % sync_interval == 0:\n",
    "        agent.sync_qnet()\n",
    "        \n",
    "    reward_history.append(total_reward)\n",
    "    \n",
    "    print(ep)"
   ]
  },
  {
   "cell_type": "code",
   "execution_count": null,
   "id": "732111ee",
   "metadata": {},
   "outputs": [],
   "source": [
    "import matplotlib.pyplot as plt"
   ]
  },
  {
   "cell_type": "code",
   "execution_count": null,
   "id": "ccfbbb3e",
   "metadata": {},
   "outputs": [],
   "source": [
    "import numpy as np\n",
    "x = np.linspace(0, 1, eps)"
   ]
  },
  {
   "cell_type": "code",
   "execution_count": null,
   "id": "30e856b1",
   "metadata": {},
   "outputs": [],
   "source": [
    "plt.plot(x, reward_history)"
   ]
  },
  {
   "cell_type": "code",
   "execution_count": null,
   "id": "52d30643",
   "metadata": {},
   "outputs": [],
   "source": []
  }
 ],
 "metadata": {
  "kernelspec": {
   "display_name": "Python 3 (ipykernel)",
   "language": "python",
   "name": "python3"
  },
  "language_info": {
   "codemirror_mode": {
    "name": "ipython",
    "version": 3
   },
   "file_extension": ".py",
   "mimetype": "text/x-python",
   "name": "python",
   "nbconvert_exporter": "python",
   "pygments_lexer": "ipython3",
   "version": "3.8.12"
  }
 },
 "nbformat": 4,
 "nbformat_minor": 5
}
