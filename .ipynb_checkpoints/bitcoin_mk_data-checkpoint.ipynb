{
 "cells": [
  {
   "cell_type": "code",
   "execution_count": 6,
   "id": "c2203954",
   "metadata": {},
   "outputs": [],
   "source": [
    "import os\n",
    "import numpy as np\n",
    "import pandas as pd\n",
    "import datetime\n",
    "import time\n",
    "from datetime import date\n",
    "import matplotlib.pyplot as plt\n",
    "import plotly.graph_objects as go\n",
    "from plotly.subplots import make_subplots\n",
    "from yahoo_fin import stock_info as si\n",
    "import datetime\n",
    "import yfinance as yf\n",
    "from random import randint\n",
    "from time import sleep"
   ]
  },
  {
   "cell_type": "code",
   "execution_count": 7,
   "id": "b0e1044a",
   "metadata": {},
   "outputs": [],
   "source": [
    "def load_historic_data(symbol, start_date_str, today_date_str, period, interval, prepost):\n",
    "    try:\n",
    "        df = yf.download(symbol, start=start_date_str, end=today_date_str, period=period, interval=interval, prepost=prepost)\n",
    "        #  Add symbol\n",
    "        df[\"Symbol\"] = symbol\n",
    "        return df\n",
    "    except:\n",
    "        print('Error loading stock data for ' + symbols)\n",
    "        return None"
   ]
  },
  {
   "cell_type": "code",
   "execution_count": 10,
   "id": "0b331053",
   "metadata": {},
   "outputs": [],
   "source": [
    "period = '1d'\n",
    "interval = '1m'\n",
    "prepost = True\n",
    "today = datetime.date.today()\n",
    "today_date_str = today.strftime(\"%Y-%m-%d\")\n",
    "#  NOTE: 7 days is the max allowed\n",
    "days = datetime.timedelta(7)\n",
    "start_date = today - days\n",
    "start_date_str = datetime.datetime.strftime(start_date, \"%Y-%m-%d\")\n",
    "#  Coins to download\n",
    "symbols = ['BTC-JPY']"
   ]
  },
  {
   "cell_type": "code",
   "execution_count": 13,
   "id": "67a377f7",
   "metadata": {},
   "outputs": [
    {
     "name": "stdout",
     "output_type": "stream",
     "text": [
      "Loading data for BTC-JPY\n",
      "[*********************100%***********************]  1 of 1 completed\n",
      "Loading data for ETH-JPY\n",
      "[*********************100%***********************]  1 of 1 completed\n",
      "Loading data for BCH-JPY\n",
      "[*********************100%***********************]  1 of 1 completed\n",
      "Loading data for LTC-JPY\n",
      "[*********************100%***********************]  1 of 1 completed\n",
      "Loading data for BNB-JPY\n",
      "[*********************100%***********************]  1 of 1 completed\n",
      "Loading data for BAT-JPY\n",
      "[*********************100%***********************]  1 of 1 completed\n",
      "Loading data for XLM-JPY\n",
      "[*********************100%***********************]  1 of 1 completed\n",
      "Loading data for DOGE-JPY\n",
      "[*********************100%***********************]  1 of 1 completed\n",
      "Loading data for DOGE-JPY\n",
      "[*********************100%***********************]  1 of 1 completed\n",
      "Loading data for COMP-JPY\n",
      "[*********************100%***********************]  1 of 1 completed\n",
      "Loading data for ALGO-JPY\n",
      "[*********************100%***********************]  1 of 1 completed\n",
      "Loading data for OMG-JPY\n",
      "[*********************100%***********************]  1 of 1 completed\n"
     ]
    }
   ],
   "source": [
    "for symbol in symbols:\n",
    "    print(f\"Loading data for {symbol}\")\n",
    "    df = load_historic_data(symbol, start_date_str, today_date_str, period, interval, prepost)\n",
    "    #  Save df\n",
    "    file_name = f\"{today_date_str}_{symbol}_{period}_{interval}.csv\"\n",
    "    df.to_csv(f\"./dataes/{file_name}\")\n",
    "    \n",
    "    #  Avoid DOS issues\n",
    "    sleep(randint(0,3))"
   ]
  },
  {
   "cell_type": "code",
   "execution_count": null,
   "id": "70d23380",
   "metadata": {},
   "outputs": [],
   "source": []
  }
 ],
 "metadata": {
  "kernelspec": {
   "display_name": "Python 3 (ipykernel)",
   "language": "python",
   "name": "python3"
  },
  "language_info": {
   "codemirror_mode": {
    "name": "ipython",
    "version": 3
   },
   "file_extension": ".py",
   "mimetype": "text/x-python",
   "name": "python",
   "nbconvert_exporter": "python",
   "pygments_lexer": "ipython3",
   "version": "3.8.12"
  }
 },
 "nbformat": 4,
 "nbformat_minor": 5
}
