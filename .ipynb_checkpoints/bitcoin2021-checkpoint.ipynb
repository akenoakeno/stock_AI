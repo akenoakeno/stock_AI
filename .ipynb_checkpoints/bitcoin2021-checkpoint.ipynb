{
 "cells": [
  {
   "cell_type": "code",
   "execution_count": 1,
   "id": "547cdad1",
   "metadata": {},
   "outputs": [],
   "source": [
    "import tqdm\n",
    "import torch.nn as nn\n",
    "import torch\n",
    "from torch.optim import SGD\n",
    "from torch.optim import RMSprop\n",
    "from torch.optim import Adam\n",
    "import math\n",
    "import numpy as np\n",
    "import csv\n",
    "import matplotlib.pyplot as plt\n",
    "import torch.utils.tensorboard as tensorboard\n",
    "from torch.autograd import Variable  \n",
    "import datetime"
   ]
  },
  {
   "cell_type": "code",
   "execution_count": 2,
   "id": "f19757bc",
   "metadata": {},
   "outputs": [],
   "source": [
    "#1時間ごとでの\n",
    "with open('BTC-2021min.csv') as f:\n",
    "    reader = csv.reader(f)\n",
    "    l = [row for row in reader]\n",
    "    minuites_data = [float(l[i][3]) for i in range(2, len(l))]\n",
    "    m_data = np.array(minuites_data)"
   ]
  },
  {
   "cell_type": "code",
   "execution_count": 3,
   "id": "c442e092",
   "metadata": {},
   "outputs": [],
   "source": [
    "def normalization(data):\n",
    "    avg = np.mean(data)\n",
    "    std = np.std(data)\n",
    "    data = (data - avg) / std\n",
    "    return data"
   ]
  },
  {
   "cell_type": "code",
   "execution_count": 4,
   "id": "bb8e5984",
   "metadata": {},
   "outputs": [],
   "source": [
    "m_data = normalization(m_data)"
   ]
  },
  {
   "cell_type": "code",
   "execution_count": 5,
   "id": "189b0b8a",
   "metadata": {},
   "outputs": [
    {
     "data": {
      "text/plain": [
       "[<matplotlib.lines.Line2D at 0x7fbd53447d00>]"
      ]
     },
     "execution_count": 5,
     "metadata": {},
     "output_type": "execute_result"
    },
    {
     "data": {
      "image/png": "[encoded data removed]",
      "text/plain": [
       "<Figure size 432x288 with 1 Axes>"
      ]
     },
     "metadata": {
      "needs_background": "light"
     },
     "output_type": "display_data"
    }
   ],
   "source": [
    "fig = plt.figure()\n",
    "ax = fig.add_subplot(111)\n",
    "\n",
    "ax.plot(m_data, color = \"r\")"
   ]
  },
  {
   "cell_type": "code",
   "execution_count": 6,
   "id": "cb6e13c5",
   "metadata": {},
   "outputs": [
    {
     "data": {
      "text/plain": [
       "[<matplotlib.lines.Line2D at 0x7fbd5334c5e0>]"
      ]
     },
     "execution_count": 6,
     "metadata": {},
     "output_type": "execute_result"
    },
    {
     "data": {
      "image/png": "[encoded data removed]",
      "text/plain": [
       "<Figure size 432x288 with 1 Axes>"
      ]
     },
     "metadata": {
      "needs_background": "light"
     },
     "output_type": "display_data"
    }
   ],
   "source": [
    "window = 10 # 移動平均の範囲\n",
    "w = np.ones(window)/window\n",
    "\n",
    "m_data_convolve = np.convolve(m_data, w, mode='same')\n",
    "\n",
    "fig = plt.figure()\n",
    "ax = fig.add_subplot(111)\n",
    "\n",
    "ax.plot(m_data_convolve, color = \"r\")"
   ]
  },
  {
   "cell_type": "code",
   "execution_count": 7,
   "id": "9e1afc3d",
   "metadata": {},
   "outputs": [
    {
     "name": "stdout",
     "output_type": "stream",
     "text": [
      "True\n"
     ]
    }
   ],
   "source": [
    "device = torch.device(\"cuda:0\" if torch.cuda.is_available() else \"cpu\")\n",
    "print(torch.cuda.is_available())"
   ]
  },
  {
   "cell_type": "code",
   "execution_count": 48,
   "id": "cd258245",
   "metadata": {},
   "outputs": [],
   "source": [
    "rate = 0.95\n",
    "expect_len = 100\n",
    "coef_arr = np.array([rate ** i for i in range(expect_len)])\n",
    "\n",
    "def value_s(np_array):\n",
    "    vs = np.sum((np_array - np_array[0]) - coef_arr[0:len(np_array)])\n",
    "    return vs\n",
    "\n",
    "def mkDataSet(data_size, data_length, validation_size):\n",
    "    train_x = np.empty((data_size, data_length, 1))\n",
    "    train_t = np.empty((data_size, 1))\n",
    "    valid_x = np.empty((validation_size, data_length, 1))\n",
    "    valid_t = np.empty((validation_size, 1))\n",
    "    \n",
    "    for offset in tqdm.tqdm(range(data_size)):\n",
    "        train_x[offset] = m_data_convolve[offset:offset + data_length].reshape(data_length, 1)\n",
    "        train_t[offset] = [value_s(m_data_convolve[offset + data_length:offset + data_length + expect_len])]\n",
    "        \n",
    "    for offset in tqdm.tqdm(range(validation_size)):\n",
    "        valid_x[offset] = m_data_convolve[offset + data_size:offset + data_size + data_length].reshape(data_length, 1)\n",
    "        valid_t[offset] = [value_s(m_data_convolve[offset + data_size + data_length:offset + data_size + data_length + expect_len])]\n",
    "        \n",
    "    return train_x, train_t, valid_x, valid_t\n",
    "\n",
    "def mkBatchSet(train_x, train_t, batch_size):\n",
    "    batch_x = []\n",
    "    batch_t = []    \n",
    "    for _ in range(batch_size):\n",
    "        idx = np.random.randint(0, len(train_x)-1)\n",
    "        batch_x.append(train_x[idx])\n",
    "        batch_t.append(train_t[idx])\n",
    "        \n",
    "    batch_x = np.array(batch_x).astype(np.float32)\n",
    "    batch_t = np.array(batch_t).astype(np.float32)\n",
    "\n",
    "    return torch.from_numpy(batch_x).clone().reshape(batch_size, 1, -1).to(device), torch.from_numpy(batch_t).clone().to(device)"
   ]
  },
  {
   "cell_type": "code",
   "execution_count": 51,
   "id": "5093d7e7",
   "metadata": {},
   "outputs": [
    {
     "name": "stderr",
     "output_type": "stream",
     "text": [
      " 98% 390681/400681 [00:08<00:00, 48418.42it/s]\n"
     ]
    },
    {
     "ename": "IndexError",
     "evalue": "index 0 is out of bounds for axis 0 with size 0",
     "output_type": "error",
     "traceback": [
      "\u001b[0;31m---------------------------------------------------------------------------\u001b[0m",
      "\u001b[0;31mIndexError\u001b[0m                                Traceback (most recent call last)",
      "Input \u001b[0;32mIn [51]\u001b[0m, in \u001b[0;36m<cell line: 8>\u001b[0;34m()\u001b[0m\n\u001b[1;32m      5\u001b[0m hidden_size \u001b[38;5;241m=\u001b[39m \u001b[38;5;241m10\u001b[39m\n\u001b[1;32m      6\u001b[0m batch_size \u001b[38;5;241m=\u001b[39m \u001b[38;5;241m32\u001b[39m\n\u001b[0;32m----> 8\u001b[0m train_x, train_t, valid_x, valid_t \u001b[38;5;241m=\u001b[39m mkDataSet(training_size, data_length, validation_size)\n\u001b[1;32m      9\u001b[0m data, label \u001b[38;5;241m=\u001b[39m mkBatchSet(train_x, train_t, batch_size)\n",
      "Input \u001b[0;32mIn [48]\u001b[0m, in \u001b[0;36mmkDataSet\u001b[0;34m(data_size, data_length, validation_size)\u001b[0m\n\u001b[1;32m     18\u001b[0m         train_t[offset] \u001b[38;5;241m=\u001b[39m [value_s(m_data_convolve[offset \u001b[38;5;241m+\u001b[39m data_length:offset \u001b[38;5;241m+\u001b[39m data_length \u001b[38;5;241m+\u001b[39m expect_len])]\n\u001b[1;32m     19\u001b[0m     \u001b[38;5;28;01melse\u001b[39;00m:\n\u001b[0;32m---> 20\u001b[0m         train_t[offset] \u001b[38;5;241m=\u001b[39m [\u001b[43mvalue_s\u001b[49m\u001b[43m(\u001b[49m\u001b[43mm_data_convolve\u001b[49m\u001b[43m[\u001b[49m\u001b[43moffset\u001b[49m\u001b[43m \u001b[49m\u001b[38;5;241;43m+\u001b[39;49m\u001b[43m \u001b[49m\u001b[43mdata_length\u001b[49m\u001b[43m:\u001b[49m\u001b[43mdata_size\u001b[49m\u001b[43m]\u001b[49m\u001b[43m)\u001b[49m]\n\u001b[1;32m     22\u001b[0m \u001b[38;5;28;01mfor\u001b[39;00m offset \u001b[38;5;129;01min\u001b[39;00m tqdm\u001b[38;5;241m.\u001b[39mtqdm(\u001b[38;5;28mrange\u001b[39m(validation_size)):\n\u001b[1;32m     23\u001b[0m     valid_x[offset] \u001b[38;5;241m=\u001b[39m m_data_convolve[offset \u001b[38;5;241m+\u001b[39m data_size:offset \u001b[38;5;241m+\u001b[39m data_size \u001b[38;5;241m+\u001b[39m data_length]\u001b[38;5;241m.\u001b[39mreshape(data_length, \u001b[38;5;241m1\u001b[39m)\n",
      "Input \u001b[0;32mIn [48]\u001b[0m, in \u001b[0;36mvalue_s\u001b[0;34m(np_array)\u001b[0m\n\u001b[1;32m      5\u001b[0m \u001b[38;5;28;01mdef\u001b[39;00m \u001b[38;5;21mvalue_s\u001b[39m(np_array):\n\u001b[0;32m----> 6\u001b[0m     vs \u001b[38;5;241m=\u001b[39m np\u001b[38;5;241m.\u001b[39msum((np_array \u001b[38;5;241m-\u001b[39m \u001b[43mnp_array\u001b[49m\u001b[43m[\u001b[49m\u001b[38;5;241;43m0\u001b[39;49m\u001b[43m]\u001b[49m) \u001b[38;5;241m-\u001b[39m coef_arr[\u001b[38;5;241m0\u001b[39m:\u001b[38;5;28mlen\u001b[39m(np_array)])\n\u001b[1;32m      7\u001b[0m     \u001b[38;5;28;01mreturn\u001b[39;00m vs\n",
      "\u001b[0;31mIndexError\u001b[0m: index 0 is out of bounds for axis 0 with size 0"
     ]
    }
   ],
   "source": [
    "data_length = 10000\n",
    "validation_size = 200000\n",
    "training_size = len(m_data) - data_length - validation_size - expect_len\n",
    "hidden_size = 10\n",
    "batch_size = 32\n",
    "\n",
    "train_x, train_t, valid_x, valid_t = mkDataSet(training_size, data_length, validation_size)\n",
    "data, label = mkBatchSet(train_x, train_t, batch_size)"
   ]
  },
  {
   "cell_type": "code",
   "execution_count": null,
   "id": "82ee595d",
   "metadata": {},
   "outputs": [],
   "source": [
    "class Predictor(nn.Module):\n",
    "    def __init__(self, inputDim, hiddenDim, outputDim):\n",
    "        super(Predictor, self).__init__()\n",
    "        self.hiddenDim = hiddenDim\n",
    "        self.kernel_size1 = 5000\n",
    "        self.kernel_size2 = 2500\n",
    "        self.kernel_size3 = 500\n",
    "        self.kernel_size4 = 250\n",
    "        self.kernel_size5 = 100\n",
    "        self.kernel_size6 = 50\n",
    "        self.seq_len = ((inputDim - self.kernel_size1 + 1 - self.kernel_size2 + 1) // 2 - self.kernel_size3 + 1 - self.kernel_size4 + 1) // 2 - self.kernel_size5 + 1 - self.kernel_size6 + 1\n",
    "        \n",
    "        self.conv1d_1 = nn.Conv1d(1, 16, self.kernel_size1)\n",
    "        self.conv1d_2 = nn.Conv1d(16, 32, self.kernel_size2)\n",
    "        self.max_pool1 = nn.MaxPool1d(2)\n",
    "        self.conv1d_3 = nn.Conv1d(32, 64, self.kernel_size3)\n",
    "        self.conv1d_4 = nn.Conv1d(64, 64, self.kernel_size4)\n",
    "        self.max_pool2 = nn.MaxPool1d(2)\n",
    "        self.conv1d_5 = nn.Conv1d(64, 64, self.kernel_size5)\n",
    "        self.conv1d_6 = nn.Conv1d(64, 64, self.kernel_size6)\n",
    "        self.rnn1 = nn.LSTM(input_size=64, hidden_size=hiddenDim, batch_first=True) #batch_first=Trueで(seq, batch, vec)->(batch, seq, vec)に入力の形を変更\n",
    "        self.rnn2 = nn.LSTM(input_size=hiddenDim, hidden_size=hiddenDim, batch_first=True) #batch_first=Trueで(seq, batch, vec)->(batch, seq, vec)に入力の形を変更\n",
    "        self.output_layer = nn.Linear(hiddenDim, outputDim)\n",
    "\n",
    "    def forward(self, input):\n",
    "        output = self.conv1d_1(input)\n",
    "        output = self.conv1d_2(output)\n",
    "        output = self.maxpool1(output)\n",
    "        output = self.conv1d_3(output)\n",
    "        output = self.conv1d_4(output)\n",
    "        output = self.maxpool2(output)\n",
    "        output = self.conv1d_5(output)\n",
    "        output = self.conv1d_6(output)\n",
    "        h_0_1 = None\n",
    "        output = output.reshape(-1, self.seq_len, 64)\n",
    "        output, (hidden, cell) = self.rnn1(output, (h_0_1)) #LSTMのforwardのreturnはこのような戻り値になっている\n",
    "        h_0_2 = None\n",
    "        output, (hidden, cell) = self.rnn2(output, (h_0_2))\n",
    "        output = self.output_layer(output[:, -1, :]) #LSTMのoutput=(batch, seq, hidden)からseqのみ最後のやつだけを取り出す\n",
    "        return output"
   ]
  },
  {
   "cell_type": "code",
   "execution_count": null,
   "id": "f2c9c1a9",
   "metadata": {},
   "outputs": [],
   "source": [
    "model = Predictor(data_length, hidden_size, 1).to(device)\n",
    "criterion = nn.MSELoss()\n",
    "optimizer = Adam(model.parameters(), lr=0.001)"
   ]
  },
  {
   "cell_type": "code",
   "execution_count": null,
   "id": "38d5fd49",
   "metadata": {},
   "outputs": [],
   "source": [
    "loss_history = []\n",
    "epoch_num = 100000\n",
    "for epoch in tqdm.tqdm(range(epoch_num)):\n",
    "    optimizer.zero_grad()\n",
    "    data, label = mkBatchSet(train_x, train_t, batch_size)\n",
    "    output = model(data)\n",
    "\n",
    "    loss = criterion(output, label)\n",
    "    loss.backward()\n",
    "    optimizer.step()\n",
    "\n",
    "    running_loss = torch.sum(loss.data)\n",
    "    loss_history.append(running_loss.to('cpu').detach().numpy().copy())\n",
    "    \n",
    "    if (epoch+1) % 1000 == 0:\n",
    "        print('%d loss: %3f' % (epoch+1, running_loss))"
   ]
  },
  {
   "cell_type": "code",
   "execution_count": null,
   "id": "fca44760",
   "metadata": {},
   "outputs": [],
   "source": [
    "loss_history = np.array(loss_history)\n",
    "fig = plt.figure()\n",
    "ax = fig.add_subplot(111)\n",
    "ax.plot(loss_history, color = \"r\")"
   ]
  },
  {
   "cell_type": "code",
   "execution_count": null,
   "id": "84b0f96e",
   "metadata": {},
   "outputs": [],
   "source": [
    "window = 10 # 移動平均の範囲\n",
    "w = np.ones(window)/window\n",
    "\n",
    "loss_hist_convolve = np.convolve(loss_history, w, mode='same')\n",
    "\n",
    "fig = plt.figure()\n",
    "ax = fig.add_subplot(111)\n",
    "\n",
    "ax.plot(loss_hist_convolve, color = \"r\")"
   ]
  },
  {
   "cell_type": "code",
   "execution_count": null,
   "id": "024092cc",
   "metadata": {},
   "outputs": [],
   "source": [
    "state = 0 #0->1で買い　1->0で売り\n",
    "reward = 0.\n",
    "last_output = 0.\n",
    "buy_chart = 0.\n",
    "output_vs = []\n",
    "with torch.no_grad():\n",
    "    for test_data in train_x:\n",
    "        output = model(torch.from_numpy(test_data.astype(np.float32)).clone().reshape(1, 1, -1).to(device))\n",
    "        if output.data > last_output:\n",
    "            if state == 0:\n",
    "                reward += test_data[-1][0] - buy_chart\n",
    "            state = 1\n",
    "        else:\n",
    "            if state == 1:\n",
    "                buy_chart = test_data[-1][0]\n",
    "            state = 0\n",
    "        output_vs.append(np.squeeze(output.data.to('cpu').detach().numpy().copy()))\n",
    "        last_output = output.data\n",
    "        \n",
    "print(reward)"
   ]
  },
  {
   "cell_type": "code",
   "execution_count": null,
   "id": "ad6c4bfa",
   "metadata": {},
   "outputs": [],
   "source": [
    "output_vs = np.array(output_vs)\n",
    "\n",
    "fig = plt.figure()\n",
    "ax = fig.add_subplot(111)\n",
    "\n",
    "ax.plot(output_vs, color = \"r\")"
   ]
  },
  {
   "cell_type": "code",
   "execution_count": null,
   "id": "3b6d31ee",
   "metadata": {},
   "outputs": [],
   "source": [
    "fig = plt.figure()\n",
    "ax = fig.add_subplot(111)\n",
    "\n",
    "ax.plot(np.squeeze(train_t), color = \"r\")"
   ]
  },
  {
   "cell_type": "code",
   "execution_count": null,
   "id": "a692054b",
   "metadata": {},
   "outputs": [],
   "source": [
    "state = 0 #0->1で買い　1->0で売り\n",
    "reward = 0.\n",
    "last_output = 0.\n",
    "buy_chart = 0.\n",
    "output_vs = []\n",
    "with torch.no_grad():\n",
    "    for test_data in valid_x:\n",
    "        output = model(torch.from_numpy(test_data.astype(np.float32)).clone().reshape(1, 1, -1).to(device))\n",
    "        if output.data > last_output:\n",
    "            if state == 0:\n",
    "                reward += test_data[-1][0] - buy_chart\n",
    "            state = 1\n",
    "        else:\n",
    "            if state == 1:\n",
    "                buy_chart = test_data[-1][0]\n",
    "            state = 0\n",
    "        output_vs.append(np.squeeze(output.data.to('cpu').detach().numpy().copy()))\n",
    "        last_output = output.data\n",
    "        \n",
    "print(reward)\n",
    "\n",
    "output_vs = np.array(output_vs)\n",
    "\n",
    "fig = plt.figure()\n",
    "ax = fig.add_subplot(111)\n",
    "\n",
    "ax.plot(output_vs, color = \"r\")\n",
    "\n",
    "fig = plt.figure()\n",
    "ax = fig.add_subplot(111)\n",
    "\n",
    "ax.plot(np.squeeze(valid_t), color = \"r\")"
   ]
  },
  {
   "cell_type": "code",
   "execution_count": null,
   "id": "dcddb13f",
   "metadata": {},
   "outputs": [],
   "source": [
    "# def mkRandomBatch(train_x, train_t, batch_size=10):\n",
    "#     batch_x = []\n",
    "#     batch_t = []\n",
    "    \n",
    "#     for _ in range(batch_size):\n",
    "#         idx = np.random.randint(0, len(train_x)-1)\n",
    "#         batch_x.append(train_x[idx])\n",
    "#         batch_t.append(train_t[idx])\n",
    "    \n",
    "#     return torch.tensor(batch_x), torch.tensor(batch_t)"
   ]
  },
  {
   "cell_type": "code",
   "execution_count": null,
   "id": "45daa052",
   "metadata": {},
   "outputs": [],
   "source": [
    "# batch_size = 10\n",
    "\n",
    "# for epoch in range(epoch_num):\n",
    "#     running_loss = 0.0\n",
    "#     last_training_accuracy = 0.0\n",
    "#     correct = 0.0\n",
    "#     for i in range(int(training_size / batch_size)):\n",
    "#         optimizer.zero_grad()\n",
    "#         data, label = mkRandomBatch(train_x, train_t, batch_size)\n",
    "\n",
    "#         output = model(data)\n",
    "\n",
    "#         loss = criterion(output, label)\n",
    "#         loss.backward()\n",
    "#         optimizer.step()\n",
    "\n",
    "#         running_loss += loss.data\n",
    "#         correct += np.sum(np.abs((output.data - label.data).numpy()) < 0.1)\n",
    "    \n",
    "#     training_accuracy = correct / training_size\n",
    "#     print('%d loss: %3f, training_accuracy: %.5f' % (epoch+1, running_loss, training_accuracy))\n",
    "#     if last_training_accuracy > training_accuracy:\n",
    "#         break\n",
    "#     last_training_accuracy = training_accuracy"
   ]
  },
  {
   "cell_type": "code",
   "execution_count": null,
   "id": "a0e48eee",
   "metadata": {},
   "outputs": [],
   "source": []
  }
 ],
 "metadata": {
  "kernelspec": {
   "display_name": "Python 3 (ipykernel)",
   "language": "python",
   "name": "python3"
  },
  "language_info": {
   "codemirror_mode": {
    "name": "ipython",
    "version": 3
   },
   "file_extension": ".py",
   "mimetype": "text/x-python",
   "name": "python",
   "nbconvert_exporter": "python",
   "pygments_lexer": "ipython3",
   "version": "3.8.12"
  }
 },
 "nbformat": 4,
 "nbformat_minor": 5
}
